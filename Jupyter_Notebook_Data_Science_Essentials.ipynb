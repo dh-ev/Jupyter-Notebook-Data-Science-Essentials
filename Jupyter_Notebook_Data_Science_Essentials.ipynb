{
  "nbformat": 4,
  "nbformat_minor": 0,
  "metadata": {
    "colab": {
      "provenance": []
    },
    "kernelspec": {
      "name": "python3",
      "display_name": "Python 3"
    },
    "language_info": {
      "name": "python"
    }
  },
  "cells": [
    {
      "cell_type": "markdown",
      "source": [
        "#Jupyter Notebook: Data Science Essentials#"
      ],
      "metadata": {
        "id": "4-Pi6vlu7Tch"
      }
    },
    {
      "cell_type": "markdown",
      "source": [
        "Exercise 2 - Title of the Notebook\n",
        "Data Science Tools and Ecosystem\n"
      ],
      "metadata": {
        "id": "tfkcqrvv7W9g"
      }
    },
    {
      "cell_type": "markdown",
      "source": [
        "Exercise 3 - Introduction\n",
        "In this notebook, we will summarize some of the key tools, languages, and libraries used in Data Science.  \n",
        "We will also perform a few basic arithmetic operations using Python.\n"
      ],
      "metadata": {
        "id": "dZxSFAIk7f5g"
      }
    },
    {
      "cell_type": "markdown",
      "source": [
        "Exercise 4 - Data Science Languages\n",
        "Some of the popular languages that Data Scientists use are:\n",
        "- Python\n",
        "- R\n",
        "- SQL\n",
        "- Julia\n",
        "- Scala\n"
      ],
      "metadata": {
        "id": "5Qk1S0j77gnP"
      }
    },
    {
      "cell_type": "markdown",
      "source": [
        "Exercise 5 - Data Science Libraries\n",
        "Some of the commonly used libraries in Data Science include:\n",
        "- Pandas\n",
        "- NumPy\n",
        "- Matplotlib\n",
        "- Seaborn\n",
        "- Scikit-learn\n",
        "- TensorFlow\n"
      ],
      "metadata": {
        "id": "6JR48lUY70W6"
      }
    },
    {
      "cell_type": "code",
      "source": [
        "Exercise 6 - Data Science Tools\n",
        "\n",
        "----------------------------------------------------\n",
        "| Tool               | Description                 |\n",
        "|--------------------|-----------------------------|\n",
        "| Jupyter Notebook   | Interactive coding platform |\n",
        "| RStudio            | IDE for R                   |\n",
        "| Apache Spark       | Big Data processing         |\n",
        "| TensorFlow         | Deep Learning framework     |\n",
        "----------------------------------------------------"
      ],
      "metadata": {
        "id": "hSAux77w76jX"
      },
      "execution_count": null,
      "outputs": []
    },
    {
      "cell_type": "markdown",
      "source": [
        "Exercise 7 - Arithmetic Expression Examples\n",
        "\n",
        "Below are some examples of arithmetic expressions in Python:\n"
      ],
      "metadata": {
        "id": "O5Kbo-MC78GN"
      }
    },
    {
      "cell_type": "code",
      "source": [
        "# Exercise 8 - Multiply and Add numbers\n",
        "\n",
        "(3*4)+5\n"
      ],
      "metadata": {
        "id": "ioPXlx6x773w"
      },
      "execution_count": null,
      "outputs": []
    },
    {
      "cell_type": "code",
      "source": [
        "# Exercise 9 - Convert minutes to hours\n",
        "\n",
        "minutes = 200\n",
        "hours = minutes / 60\n",
        "hours\n"
      ],
      "metadata": {
        "id": "R9cHHv1Q8ChL"
      },
      "execution_count": null,
      "outputs": []
    },
    {
      "cell_type": "markdown",
      "source": [
        "Exercise 10 - Objectives\n",
        "\n",
        "- List popular languages for Data Science\n",
        "- List common libraries for Data Science\n",
        "- Demonstrate basic arithmetic operations\n",
        "- Present common tools used by Data Scientists\n"
      ],
      "metadata": {
        "id": "t8VZ-L4T8Bk9"
      }
    },
    {
      "cell_type": "markdown",
      "source": [
        "Exercise 11 - Author's Name\n",
        "\n",
        "Author: Dhevatha S P"
      ],
      "metadata": {
        "id": "8MwRF4Aq8GP9"
      }
    },
    {
      "cell_type": "markdown",
      "source": [
        "Exercise 12 - Share your notebook\n",
        "This notebook is shared on GitHub at:  \n",
        "[GitHub Repository Link](https://github.com/dh-ev/Jupyter-Notebook-Data-Science-Essentials)\n"
      ],
      "metadata": {
        "id": "lLPqiN1p8JDm"
      }
    }
  ]
}
